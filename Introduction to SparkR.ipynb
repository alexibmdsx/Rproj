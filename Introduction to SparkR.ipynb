{
    "nbformat_minor": 1, 
    "metadata": {
        "kernelspec": {
            "name": "r-spark21", 
            "display_name": "R with Spark 2.1", 
            "language": "R"
        }, 
        "language_info": {
            "mimetype": "text/x-r-source", 
            "version": "3.4.1", 
            "pygments_lexer": "r", 
            "name": "R", 
            "file_extension": ".r", 
            "codemirror_mode": "r"
        }, 
        "widgets": {
            "version": "1.1.2", 
            "state": {}
        }
    }, 
    "cells": [
        {
            "metadata": {}, 
            "cell_type": "markdown", 
            "source": "### Regarding Data Frames\nDataframes are SparkR's prime data structure. Data Frames are used for storing, manipulating, and organizing data. There are a few ways to create a Data Frame in SparkR. You can utilize the `createDataFrame` function, if there's already a local **R** data frame in place, you can use `read.df` if your file is of a format natively readable by SparkR (such as a correctly structured JSON file or Parquet), or you can take a look in the <a href=\"http://spark-packages.org/\">Spark Packages</a> and see if there is any packages made for reading your file.\n\nTo read and create data from our `mtcars` dataset, we use the `createDataFrame` function, like so:"
        }, 
        {
            "outputs": [
                {
                    "name": "stderr", 
                    "output_type": "stream", 
                    "text": "Obtaining Spark session...\nSpark session obtained.\n"
                }
            ], 
            "execution_count": 1, 
            "metadata": {}, 
            "cell_type": "code", 
            "source": "#Create a data frame called \"cars\" using R's native dataset \"mtcars\"\ncars <- createDataFrame(mtcars)"
        }, 
        {
            "metadata": {}, 
            "cell_type": "markdown", 
            "source": "Now, you do the same for the `iris` dataset:"
        }, 
        {
            "outputs": [
                {
                    "name": "stderr", 
                    "output_type": "stream", 
                    "text": "Warning message in FUN(X[[i]], ...):\n\u201cUse Sepal_Length instead of Sepal.Length  as column name\u201dWarning message in FUN(X[[i]], ...):\n\u201cUse Sepal_Width instead of Sepal.Width  as column name\u201dWarning message in FUN(X[[i]], ...):\n\u201cUse Petal_Length instead of Petal.Length  as column name\u201dWarning message in FUN(X[[i]], ...):\n\u201cUse Petal_Width instead of Petal.Width  as column name\u201d"
                }
            ], 
            "execution_count": 2, 
            "metadata": {}, 
            "cell_type": "code", 
            "source": "#Create a data frame called \"flowers\" using R's native dataset \"iris\"\n#type your code here\niris <- createDataFrame(iris)"
        }, 
        {
            "metadata": {}, 
            "cell_type": "markdown", 
            "source": "<div class=\"alert alert-block alert-info\" style=\"margin-top: 20px\">You might receive some warning messages regarding the `iris` dataset. This is due to the column names not complying to the naming guidelines - for the purposes of this notebook, you can ignore them.</div>"
        }, 
        {
            "metadata": {}, 
            "cell_type": "markdown", 
            "source": "### Registering Data Frames as tempTables\nOne of SparkR's more unique features is the capability to perform SQL queries on Data Frames. To do so, you generate a temporary SQL table (the so called `tempTable`) in Spark. We will go over performing SQL queries in the next Lab.\n\nFor now, to register a temporary SQL table, we use the following function:"
        }, 
        {
            "outputs": [], 
            "execution_count": 3, 
            "metadata": {}, 
            "cell_type": "code", 
            "source": "#Create a temporary SQL table called \"cars\" using our SparkR data frame \"cars\"\ncreateOrReplaceTempView(cars,\"cars\")"
        }, 
        {
            "metadata": {}, 
            "cell_type": "markdown", 
            "source": "Now, do the same for the `flowers` data frame:"
        }, 
        {
            "outputs": [], 
            "execution_count": 4, 
            "metadata": {}, 
            "cell_type": "code", 
            "source": "#Create a temporary SQL table called \"flowers\" using our SparkR data frame \"flowers\"\n#type your code here\ncreateOrReplaceTempView(iris,\"iris\")"
        }, 
        {
            "metadata": {}, 
            "cell_type": "markdown", 
            "source": "### Useful functions: head and printSchema\nNow that you have your structured data ready for SparkR, you can take a look over your data with some handy functions. The datasets you use might be very large, and as such, printing the entire data frame might be a little too messy. In this case, you can use the `head` function to take a look at only the first six rows, like so:"
        }, 
        {
            "outputs": [
                {
                    "output_type": "display_data", 
                    "metadata": {}, 
                    "data": {
                        "text/html": "<table>\n<thead><tr><th scope=col>mpg</th><th scope=col>cyl</th><th scope=col>disp</th><th scope=col>hp</th><th scope=col>drat</th><th scope=col>wt</th><th scope=col>qsec</th><th scope=col>vs</th><th scope=col>am</th><th scope=col>gear</th><th scope=col>carb</th></tr></thead>\n<tbody>\n\t<tr><td>21.0 </td><td>6    </td><td>160  </td><td>110  </td><td>3.90 </td><td>2.620</td><td>16.46</td><td>0    </td><td>1    </td><td>4    </td><td>4    </td></tr>\n\t<tr><td>21.0 </td><td>6    </td><td>160  </td><td>110  </td><td>3.90 </td><td>2.875</td><td>17.02</td><td>0    </td><td>1    </td><td>4    </td><td>4    </td></tr>\n\t<tr><td>22.8 </td><td>4    </td><td>108  </td><td> 93  </td><td>3.85 </td><td>2.320</td><td>18.61</td><td>1    </td><td>1    </td><td>4    </td><td>1    </td></tr>\n\t<tr><td>21.4 </td><td>6    </td><td>258  </td><td>110  </td><td>3.08 </td><td>3.215</td><td>19.44</td><td>1    </td><td>0    </td><td>3    </td><td>1    </td></tr>\n\t<tr><td>18.7 </td><td>8    </td><td>360  </td><td>175  </td><td>3.15 </td><td>3.440</td><td>17.02</td><td>0    </td><td>0    </td><td>3    </td><td>2    </td></tr>\n\t<tr><td>18.1 </td><td>6    </td><td>225  </td><td>105  </td><td>2.76 </td><td>3.460</td><td>20.22</td><td>1    </td><td>0    </td><td>3    </td><td>1    </td></tr>\n</tbody>\n</table>\n", 
                        "text/latex": "\\begin{tabular}{r|lllllllllll}\n mpg & cyl & disp & hp & drat & wt & qsec & vs & am & gear & carb\\\\\n\\hline\n\t 21.0  & 6     & 160   & 110   & 3.90  & 2.620 & 16.46 & 0     & 1     & 4     & 4    \\\\\n\t 21.0  & 6     & 160   & 110   & 3.90  & 2.875 & 17.02 & 0     & 1     & 4     & 4    \\\\\n\t 22.8  & 4     & 108   &  93   & 3.85  & 2.320 & 18.61 & 1     & 1     & 4     & 1    \\\\\n\t 21.4  & 6     & 258   & 110   & 3.08  & 3.215 & 19.44 & 1     & 0     & 3     & 1    \\\\\n\t 18.7  & 8     & 360   & 175   & 3.15  & 3.440 & 17.02 & 0     & 0     & 3     & 2    \\\\\n\t 18.1  & 6     & 225   & 105   & 2.76  & 3.460 & 20.22 & 1     & 0     & 3     & 1    \\\\\n\\end{tabular}\n", 
                        "text/plain": "  mpg  cyl disp hp  drat wt    qsec  vs am gear carb\n1 21.0 6   160  110 3.90 2.620 16.46 0  1  4    4   \n2 21.0 6   160  110 3.90 2.875 17.02 0  1  4    4   \n3 22.8 4   108   93 3.85 2.320 18.61 1  1  4    1   \n4 21.4 6   258  110 3.08 3.215 19.44 1  0  3    1   \n5 18.7 8   360  175 3.15 3.440 17.02 0  0  3    2   \n6 18.1 6   225  105 2.76 3.460 20.22 1  0  3    1   "
                    }
                }
            ], 
            "execution_count": 5, 
            "metadata": {}, 
            "cell_type": "code", 
            "source": "#Look at the first six rows of our \"cars\" SparkR data frame\n#You need the SparkR:: prefix due to R already having a head function\nSparkR::head(cars)"
        }, 
        {
            "metadata": {}, 
            "cell_type": "markdown", 
            "source": "You can also take a look at the typing scheme of your data frame using the `printSchema` function:"
        }, 
        {
            "outputs": [
                {
                    "name": "stdout", 
                    "output_type": "stream", 
                    "text": "root\n |-- mpg: double (nullable = true)\n |-- cyl: double (nullable = true)\n |-- disp: double (nullable = true)\n |-- hp: double (nullable = true)\n |-- drat: double (nullable = true)\n |-- wt: double (nullable = true)\n |-- qsec: double (nullable = true)\n |-- vs: double (nullable = true)\n |-- am: double (nullable = true)\n |-- gear: double (nullable = true)\n |-- carb: double (nullable = true)\n"
                }
            ], 
            "execution_count": 6, 
            "metadata": {}, 
            "cell_type": "code", 
            "source": "#Look at the schema for our SparkR data frame \"cars\"\nprintSchema(cars)"
        }, 
        {
            "metadata": {}, 
            "cell_type": "markdown", 
            "source": "Now, try doing the same for your `flowers` data frame!"
        }, 
        {
            "outputs": [], 
            "execution_count": 7, 
            "metadata": {}, 
            "cell_type": "code", 
            "source": "#Look at the first six rows of our \"flowers\" SparkR data frame\n#type your code here"
        }, 
        {
            "outputs": [], 
            "execution_count": 8, 
            "metadata": {}, 
            "cell_type": "code", 
            "source": "#Look at the schema for our SparkR data frame \"flowers\"\n#type your code here"
        }, 
        {
            "metadata": {
                "collapsed": true
            }, 
            "cell_type": "markdown", 
            "source": "# Data Manipulation in SparkR \n"
        }, 
        {
            "metadata": {}, 
            "cell_type": "markdown", 
            "source": "### Selecting Columns\nAll of our data frames are separated in **rows and columns**, much like a data table. Most of the time, we would want to retrieve values from a specific column. To do this, we use the `select` function, like so:"
        }, 
        {
            "outputs": [
                {
                    "output_type": "display_data", 
                    "metadata": {}, 
                    "data": {
                        "text/html": "<table>\n<thead><tr><th scope=col>mpg</th></tr></thead>\n<tbody>\n\t<tr><td>21.0</td></tr>\n\t<tr><td>21.0</td></tr>\n\t<tr><td>22.8</td></tr>\n\t<tr><td>21.4</td></tr>\n\t<tr><td>18.7</td></tr>\n\t<tr><td>18.1</td></tr>\n</tbody>\n</table>\n", 
                        "text/latex": "\\begin{tabular}{r|l}\n mpg\\\\\n\\hline\n\t 21.0\\\\\n\t 21.0\\\\\n\t 22.8\\\\\n\t 21.4\\\\\n\t 18.7\\\\\n\t 18.1\\\\\n\\end{tabular}\n", 
                        "text/plain": "  mpg \n1 21.0\n2 21.0\n3 22.8\n4 21.4\n5 18.7\n6 18.1"
                    }
                }
            ], 
            "execution_count": 9, 
            "metadata": {}, 
            "cell_type": "code", 
            "source": "#Select from the \"cars\" data frame the \"mpg\" column\n#select(cars,cars$mpg)\n#Select the first six rows of the \"mpg\" column from the \"cars\" data frame\n#Remember that you have to add the SparkR:: prefix to head since R already has an incompatible head function\nSparkR::head(select(cars,cars$mpg))"
        }, 
        {
            "metadata": {}, 
            "cell_type": "markdown", 
            "source": "Now, do the same for the `flowers` data frame!"
        }, 
        {
            "outputs": [], 
            "execution_count": 10, 
            "metadata": {}, 
            "cell_type": "code", 
            "source": "#Select the first six rows of the \"Petal_Length\" column from the \"flowers\" data frame\n#type your code here"
        }, 
        {
            "metadata": {}, 
            "cell_type": "markdown", 
            "source": "### Filtering by Conditions\nYou can also **filter rows by imposing conditions** upon given columns. This something critical to know how to do, for you may want to subset your data frame given certain condition. For this, you use the `filter` function."
        }, 
        {
            "outputs": [
                {
                    "output_type": "display_data", 
                    "metadata": {}, 
                    "data": {
                        "text/html": "<table>\n<thead><tr><th scope=col>mpg</th><th scope=col>cyl</th><th scope=col>disp</th><th scope=col>hp</th><th scope=col>drat</th><th scope=col>wt</th><th scope=col>qsec</th><th scope=col>vs</th><th scope=col>am</th><th scope=col>gear</th><th scope=col>carb</th></tr></thead>\n<tbody>\n\t<tr><td>18.7 </td><td>8    </td><td>360.0</td><td>175  </td><td>3.15 </td><td>3.44 </td><td>17.02</td><td>0    </td><td>0    </td><td>3    </td><td>2    </td></tr>\n\t<tr><td>18.1 </td><td>6    </td><td>225.0</td><td>105  </td><td>2.76 </td><td>3.46 </td><td>20.22</td><td>1    </td><td>0    </td><td>3    </td><td>1    </td></tr>\n\t<tr><td>14.3 </td><td>8    </td><td>360.0</td><td>245  </td><td>3.21 </td><td>3.57 </td><td>15.84</td><td>0    </td><td>0    </td><td>3    </td><td>4    </td></tr>\n\t<tr><td>19.2 </td><td>6    </td><td>167.6</td><td>123  </td><td>3.92 </td><td>3.44 </td><td>18.30</td><td>1    </td><td>0    </td><td>4    </td><td>4    </td></tr>\n\t<tr><td>17.8 </td><td>6    </td><td>167.6</td><td>123  </td><td>3.92 </td><td>3.44 </td><td>18.90</td><td>1    </td><td>0    </td><td>4    </td><td>4    </td></tr>\n\t<tr><td>16.4 </td><td>8    </td><td>275.8</td><td>180  </td><td>3.07 </td><td>4.07 </td><td>17.40</td><td>0    </td><td>0    </td><td>3    </td><td>3    </td></tr>\n</tbody>\n</table>\n", 
                        "text/latex": "\\begin{tabular}{r|lllllllllll}\n mpg & cyl & disp & hp & drat & wt & qsec & vs & am & gear & carb\\\\\n\\hline\n\t 18.7  & 8     & 360.0 & 175   & 3.15  & 3.44  & 17.02 & 0     & 0     & 3     & 2    \\\\\n\t 18.1  & 6     & 225.0 & 105   & 2.76  & 3.46  & 20.22 & 1     & 0     & 3     & 1    \\\\\n\t 14.3  & 8     & 360.0 & 245   & 3.21  & 3.57  & 15.84 & 0     & 0     & 3     & 4    \\\\\n\t 19.2  & 6     & 167.6 & 123   & 3.92  & 3.44  & 18.30 & 1     & 0     & 4     & 4    \\\\\n\t 17.8  & 6     & 167.6 & 123   & 3.92  & 3.44  & 18.90 & 1     & 0     & 4     & 4    \\\\\n\t 16.4  & 8     & 275.8 & 180   & 3.07  & 4.07  & 17.40 & 0     & 0     & 3     & 3    \\\\\n\\end{tabular}\n", 
                        "text/plain": "  mpg  cyl disp  hp  drat wt   qsec  vs am gear carb\n1 18.7 8   360.0 175 3.15 3.44 17.02 0  0  3    2   \n2 18.1 6   225.0 105 2.76 3.46 20.22 1  0  3    1   \n3 14.3 8   360.0 245 3.21 3.57 15.84 0  0  3    4   \n4 19.2 6   167.6 123 3.92 3.44 18.30 1  0  4    4   \n5 17.8 6   167.6 123 3.92 3.44 18.90 1  0  4    4   \n6 16.4 8   275.8 180 3.07 4.07 17.40 0  0  3    3   "
                    }
                }
            ], 
            "execution_count": 11, 
            "metadata": {
                "scrolled": true
            }, 
            "cell_type": "code", 
            "source": "#Select the first six rows of \"cars\" that have a value under 20 in the \"mpg\" column\n#We have to use the SparkR:: prefix since R already has a conflicting filter function\nSparkR::head(SparkR::filter(cars, cars$mpg < 20))"
        }, 
        {
            "metadata": {}, 
            "cell_type": "markdown", 
            "source": "Now, try doing the same for the `flowers` data frame."
        }, 
        {
            "outputs": [], 
            "execution_count": 12, 
            "metadata": {}, 
            "cell_type": "code", 
            "source": "#Select the first six rows of \"flowers\" that have a value under 1.4 in the \"Petal_Length\" column\n#type your code here"
        }, 
        {
            "metadata": {}, 
            "cell_type": "markdown", 
            "source": "### Grouping by Average, Sum and Count\nAnother useful function is **grouping your data frame rows by their average, sum, and count**. This enables you to create a histogram or generate other relevant information with great ease. This is done with the `summarize` and `groupby` functions."
        }, 
        {
            "outputs": [
                {
                    "output_type": "display_data", 
                    "metadata": {}, 
                    "data": {
                        "text/html": "<table>\n<thead><tr><th scope=col>mpg</th><th scope=col>count</th></tr></thead>\n<tbody>\n\t<tr><td>15.5</td><td>1   </td></tr>\n\t<tr><td>17.3</td><td>1   </td></tr>\n\t<tr><td>13.3</td><td>1   </td></tr>\n\t<tr><td>19.7</td><td>1   </td></tr>\n\t<tr><td>21.4</td><td>2   </td></tr>\n\t<tr><td>15.8</td><td>1   </td></tr>\n</tbody>\n</table>\n", 
                        "text/latex": "\\begin{tabular}{r|ll}\n mpg & count\\\\\n\\hline\n\t 15.5 & 1   \\\\\n\t 17.3 & 1   \\\\\n\t 13.3 & 1   \\\\\n\t 19.7 & 1   \\\\\n\t 21.4 & 2   \\\\\n\t 15.8 & 1   \\\\\n\\end{tabular}\n", 
                        "text/plain": "  mpg  count\n1 15.5 1    \n2 17.3 1    \n3 13.3 1    \n4 19.7 1    \n5 21.4 2    \n6 15.8 1    "
                    }
                }, 
                {
                    "output_type": "display_data", 
                    "metadata": {}, 
                    "data": {
                        "text/html": "<table>\n<thead><tr><th scope=col>mpg</th><th scope=col>sum</th></tr></thead>\n<tbody>\n\t<tr><td>15.5</td><td>15.5</td></tr>\n\t<tr><td>17.3</td><td>17.3</td></tr>\n\t<tr><td>13.3</td><td>13.3</td></tr>\n\t<tr><td>19.7</td><td>19.7</td></tr>\n\t<tr><td>21.4</td><td>42.8</td></tr>\n\t<tr><td>15.8</td><td>15.8</td></tr>\n</tbody>\n</table>\n", 
                        "text/latex": "\\begin{tabular}{r|ll}\n mpg & sum\\\\\n\\hline\n\t 15.5 & 15.5\\\\\n\t 17.3 & 17.3\\\\\n\t 13.3 & 13.3\\\\\n\t 19.7 & 19.7\\\\\n\t 21.4 & 42.8\\\\\n\t 15.8 & 15.8\\\\\n\\end{tabular}\n", 
                        "text/plain": "  mpg  sum \n1 15.5 15.5\n2 17.3 17.3\n3 13.3 13.3\n4 19.7 19.7\n5 21.4 42.8\n6 15.8 15.8"
                    }
                }, 
                {
                    "output_type": "display_data", 
                    "metadata": {}, 
                    "data": {
                        "text/html": "<table>\n<thead><tr><th scope=col>mpg</th><th scope=col>average</th></tr></thead>\n<tbody>\n\t<tr><td>15.5 </td><td>150.0</td></tr>\n\t<tr><td>17.3 </td><td>180.0</td></tr>\n\t<tr><td>13.3 </td><td>245.0</td></tr>\n\t<tr><td>19.7 </td><td>175.0</td></tr>\n\t<tr><td>21.4 </td><td>109.5</td></tr>\n\t<tr><td>15.8 </td><td>264.0</td></tr>\n</tbody>\n</table>\n", 
                        "text/latex": "\\begin{tabular}{r|ll}\n mpg & average\\\\\n\\hline\n\t 15.5  & 150.0\\\\\n\t 17.3  & 180.0\\\\\n\t 13.3  & 245.0\\\\\n\t 19.7  & 175.0\\\\\n\t 21.4  & 109.5\\\\\n\t 15.8  & 264.0\\\\\n\\end{tabular}\n", 
                        "text/plain": "  mpg  average\n1 15.5 150.0  \n2 17.3 180.0  \n3 13.3 245.0  \n4 19.7 175.0  \n5 21.4 109.5  \n6 15.8 264.0  "
                    }
                }
            ], 
            "execution_count": 13, 
            "metadata": {}, 
            "cell_type": "code", 
            "source": "#Select the first six elements of the grouping of \"cars\" by its \"mpg\" column, plus the count of the occurrances of that given\n#\"mpg\" value in the dataset\nSparkR::head(summarize(groupBy(cars, cars$mpg), count = n(cars$mpg)))\n#Select the first six elements of the grouping of \"cars\" by its \"mpg\" column, plus the sum of all occurrances of that given\n#\"mpg\" value in the dataset\nSparkR::head(summarize(groupBy(cars, cars$mpg), sum = sum(cars$mpg)))\n#Select the first six elements of the grouping of \"cars\" by its \"mpg\" column, plus the average of all \"hp\" column values\n#in rows which have that given \"mpg\" value\nSparkR::head(summarize(groupBy(cars, cars$mpg), average = avg(cars$hp)))"
        }, 
        {
            "metadata": {}, 
            "cell_type": "markdown", 
            "source": "Additionally, you can also sort the data using the `arrange` function, like so:"
        }, 
        {
            "outputs": [
                {
                    "output_type": "display_data", 
                    "metadata": {}, 
                    "data": {
                        "text/html": "<table>\n<thead><tr><th scope=col>mpg</th><th scope=col>average</th></tr></thead>\n<tbody>\n\t<tr><td>15.0</td><td>335 </td></tr>\n\t<tr><td>15.8</td><td>264 </td></tr>\n\t<tr><td>14.3</td><td>245 </td></tr>\n\t<tr><td>13.3</td><td>245 </td></tr>\n\t<tr><td>14.7</td><td>230 </td></tr>\n\t<tr><td>10.4</td><td>210 </td></tr>\n</tbody>\n</table>\n", 
                        "text/latex": "\\begin{tabular}{r|ll}\n mpg & average\\\\\n\\hline\n\t 15.0 & 335 \\\\\n\t 15.8 & 264 \\\\\n\t 14.3 & 245 \\\\\n\t 13.3 & 245 \\\\\n\t 14.7 & 230 \\\\\n\t 10.4 & 210 \\\\\n\\end{tabular}\n", 
                        "text/plain": "  mpg  average\n1 15.0 335    \n2 15.8 264    \n3 14.3 245    \n4 13.3 245    \n5 14.7 230    \n6 10.4 210    "
                    }
                }
            ], 
            "execution_count": 14, 
            "metadata": {}, 
            "cell_type": "code", 
            "source": "#Make a variable called \"group\" which is the grouping of \"cars\" by its \"mpg\" column, plus the average of all \"hp\" column values \n#in rows which have that given \"mpg\" value\ngroup <- summarize(groupBy(cars, cars$mpg), average = avg(cars$hp))\n#Take the first six elements of \"group\" which are ordered in decreasing \"average\" column value order\nSparkR::head(arrange(group, desc(group$average)))"
        }, 
        {
            "metadata": {}, 
            "cell_type": "markdown", 
            "source": "Now try it on the `flowers` data frame!"
        }, 
        {
            "outputs": [], 
            "execution_count": 15, 
            "metadata": {}, 
            "cell_type": "code", 
            "source": "#Make a variable called \"petals\" which is the grouping of \"flowers\" by its \"Petal_Length\" column, plus the count of its occurrances\n#type your code here\n#Take first six elements of \"petals\" which are ordered in decreasing \"count\" column order\n#type your code here"
        }, 
        {
            "metadata": {}, 
            "cell_type": "markdown", 
            "source": "### Operating on Columns\nNow that you know how to select columns, you can now **perform operations on them**. Virtually any function in SparkR can be applied to a column. To do so, you use the `$` operator."
        }, 
        {
            "outputs": [
                {
                    "output_type": "display_data", 
                    "metadata": {}, 
                    "data": {
                        "text/html": "<table>\n<thead><tr><th scope=col>mpg</th><th scope=col>cyl</th><th scope=col>disp</th><th scope=col>hp</th><th scope=col>drat</th><th scope=col>wt</th><th scope=col>qsec</th><th scope=col>vs</th><th scope=col>am</th><th scope=col>gear</th><th scope=col>carb</th></tr></thead>\n<tbody>\n\t<tr><td>5.547613</td><td>6       </td><td>160     </td><td>110     </td><td>3.90    </td><td>2.620   </td><td>16.46   </td><td>0       </td><td>1       </td><td>4       </td><td>4       </td></tr>\n\t<tr><td>5.547613</td><td>6       </td><td>160     </td><td>110     </td><td>3.90    </td><td>2.875   </td><td>17.02   </td><td>0       </td><td>1       </td><td>4       </td><td>4       </td></tr>\n\t<tr><td>6.023123</td><td>4       </td><td>108     </td><td> 93     </td><td>3.85    </td><td>2.320   </td><td>18.61   </td><td>1       </td><td>1       </td><td>4       </td><td>1       </td></tr>\n\t<tr><td>5.653282</td><td>6       </td><td>258     </td><td>110     </td><td>3.08    </td><td>3.215   </td><td>19.44   </td><td>1       </td><td>0       </td><td>3       </td><td>1       </td></tr>\n\t<tr><td>4.940017</td><td>8       </td><td>360     </td><td>175     </td><td>3.15    </td><td>3.440   </td><td>17.02   </td><td>0       </td><td>0       </td><td>3       </td><td>2       </td></tr>\n\t<tr><td>4.781514</td><td>6       </td><td>225     </td><td>105     </td><td>2.76    </td><td>3.460   </td><td>20.22   </td><td>1       </td><td>0       </td><td>3       </td><td>1       </td></tr>\n</tbody>\n</table>\n", 
                        "text/latex": "\\begin{tabular}{r|lllllllllll}\n mpg & cyl & disp & hp & drat & wt & qsec & vs & am & gear & carb\\\\\n\\hline\n\t 5.547613 & 6        & 160      & 110      & 3.90     & 2.620    & 16.46    & 0        & 1        & 4        & 4       \\\\\n\t 5.547613 & 6        & 160      & 110      & 3.90     & 2.875    & 17.02    & 0        & 1        & 4        & 4       \\\\\n\t 6.023123 & 4        & 108      &  93      & 3.85     & 2.320    & 18.61    & 1        & 1        & 4        & 1       \\\\\n\t 5.653282 & 6        & 258      & 110      & 3.08     & 3.215    & 19.44    & 1        & 0        & 3        & 1       \\\\\n\t 4.940017 & 8        & 360      & 175      & 3.15     & 3.440    & 17.02    & 0        & 0        & 3        & 2       \\\\\n\t 4.781514 & 6        & 225      & 105      & 2.76     & 3.460    & 20.22    & 1        & 0        & 3        & 1       \\\\\n\\end{tabular}\n", 
                        "text/plain": "  mpg      cyl disp hp  drat wt    qsec  vs am gear carb\n1 5.547613 6   160  110 3.90 2.620 16.46 0  1  4    4   \n2 5.547613 6   160  110 3.90 2.875 17.02 0  1  4    4   \n3 6.023123 4   108   93 3.85 2.320 18.61 1  1  4    1   \n4 5.653282 6   258  110 3.08 3.215 19.44 1  0  3    1   \n5 4.940017 8   360  175 3.15 3.440 17.02 0  0  3    2   \n6 4.781514 6   225  105 2.76 3.460 20.22 1  0  3    1   "
                    }
                }, 
                {
                    "output_type": "display_data", 
                    "metadata": {}, 
                    "data": {
                        "text/html": "<table>\n<thead><tr><th scope=col>mpg</th><th scope=col>cyl</th><th scope=col>disp</th><th scope=col>hp</th><th scope=col>drat</th><th scope=col>wt</th><th scope=col>qsec</th><th scope=col>vs</th><th scope=col>am</th><th scope=col>gear</th><th scope=col>carb</th></tr></thead>\n<tbody>\n\t<tr><td>21.0 </td><td>6    </td><td>160  </td><td>110  </td><td>3.90 </td><td>2.620</td><td>16.46</td><td>0    </td><td>1    </td><td>4    </td><td>4    </td></tr>\n\t<tr><td>21.0 </td><td>6    </td><td>160  </td><td>110  </td><td>3.90 </td><td>2.875</td><td>17.02</td><td>0    </td><td>1    </td><td>4    </td><td>4    </td></tr>\n\t<tr><td>22.8 </td><td>4    </td><td>108  </td><td> 93  </td><td>3.85 </td><td>2.320</td><td>18.61</td><td>1    </td><td>1    </td><td>4    </td><td>1    </td></tr>\n\t<tr><td>21.4 </td><td>6    </td><td>258  </td><td>110  </td><td>3.08 </td><td>3.215</td><td>19.44</td><td>1    </td><td>0    </td><td>3    </td><td>1    </td></tr>\n\t<tr><td>18.7 </td><td>8    </td><td>360  </td><td>175  </td><td>3.15 </td><td>3.440</td><td>17.02</td><td>0    </td><td>0    </td><td>3    </td><td>2    </td></tr>\n\t<tr><td>18.1 </td><td>6    </td><td>225  </td><td>105  </td><td>2.76 </td><td>3.460</td><td>20.22</td><td>1    </td><td>0    </td><td>3    </td><td>1    </td></tr>\n</tbody>\n</table>\n", 
                        "text/latex": "\\begin{tabular}{r|lllllllllll}\n mpg & cyl & disp & hp & drat & wt & qsec & vs & am & gear & carb\\\\\n\\hline\n\t 21.0  & 6     & 160   & 110   & 3.90  & 2.620 & 16.46 & 0     & 1     & 4     & 4    \\\\\n\t 21.0  & 6     & 160   & 110   & 3.90  & 2.875 & 17.02 & 0     & 1     & 4     & 4    \\\\\n\t 22.8  & 4     & 108   &  93   & 3.85  & 2.320 & 18.61 & 1     & 1     & 4     & 1    \\\\\n\t 21.4  & 6     & 258   & 110   & 3.08  & 3.215 & 19.44 & 1     & 0     & 3     & 1    \\\\\n\t 18.7  & 8     & 360   & 175   & 3.15  & 3.440 & 17.02 & 0     & 0     & 3     & 2    \\\\\n\t 18.1  & 6     & 225   & 105   & 2.76  & 3.460 & 20.22 & 1     & 0     & 3     & 1    \\\\\n\\end{tabular}\n", 
                        "text/plain": "  mpg  cyl disp hp  drat wt    qsec  vs am gear carb\n1 21.0 6   160  110 3.90 2.620 16.46 0  1  4    4   \n2 21.0 6   160  110 3.90 2.875 17.02 0  1  4    4   \n3 22.8 4   108   93 3.85 2.320 18.61 1  1  4    1   \n4 21.4 6   258  110 3.08 3.215 19.44 1  0  3    1   \n5 18.7 8   360  175 3.15 3.440 17.02 0  0  3    2   \n6 18.1 6   225  105 2.76 3.460 20.22 1  0  3    1   "
                    }
                }
            ], 
            "execution_count": 16, 
            "metadata": {}, 
            "cell_type": "code", 
            "source": "#In the \"cars\" data frame, change the \"mpg\" (miles per gallon) column to miles per liter and then change it back\n#1 gallon is 3.78541178 liters\ncars$mpg <- cars$mpg/3.78541178\nSparkR::head(cars)\n#Change it back\ncars$mpg <- cars$mpg*3.78541178\nSparkR::head(cars)"
        }, 
        {
            "metadata": {}, 
            "cell_type": "markdown", 
            "source": "Now try the same on the `flowers` data frame."
        }, 
        {
            "outputs": [], 
            "execution_count": 17, 
            "metadata": {}, 
            "cell_type": "code", 
            "source": "#In the \"flowers\" data frame, change the \"Petal_Length\" column from centimeters to millimeters and then change it back\n#1 centimeter is 10 millimeters\n#type your code here\n\n#Change it back\n#type your code here"
        }, 
        {
            "metadata": {}, 
            "cell_type": "markdown", 
            "source": "### Utilizing SQL queries in SparkR\nYou can also **utilize SQL queries in SparkR**, thanks to the SQL Context created. Before utilizing SQL queries, you need to register your data frames as `tempTables`. Let's do this right now:"
        }, 
        {
            "outputs": [], 
            "execution_count": 18, 
            "metadata": {}, 
            "cell_type": "code", 
            "source": "#Create a temporary SQL table called \"cars\" using our SparkR data frame \"cars\"\ncreateOrReplaceTempView(cars,\"cars\")\n#Create a temporary SQL table called \"flowers\" using our SparkR data frame \"flowers\"\n#createOrReplaceTempView(flowers,\"flowers\")"
        }, 
        {
            "metadata": {}, 
            "cell_type": "markdown", 
            "source": "Now that we have our temporary tables, we can perform queries using the `sql` command."
        }, 
        {
            "outputs": [
                {
                    "output_type": "display_data", 
                    "metadata": {}, 
                    "data": {
                        "text/html": "<table>\n<thead><tr><th scope=col>mpg</th><th scope=col>cyl</th><th scope=col>disp</th><th scope=col>hp</th><th scope=col>drat</th><th scope=col>wt</th><th scope=col>qsec</th><th scope=col>vs</th><th scope=col>am</th><th scope=col>gear</th><th scope=col>carb</th></tr></thead>\n<tbody>\n\t<tr><td>18.7 </td><td>8    </td><td>360.0</td><td>175  </td><td>3.15 </td><td>3.44 </td><td>17.02</td><td>0    </td><td>0    </td><td>3    </td><td>2    </td></tr>\n\t<tr><td>14.3 </td><td>8    </td><td>360.0</td><td>245  </td><td>3.21 </td><td>3.57 </td><td>15.84</td><td>0    </td><td>0    </td><td>3    </td><td>4    </td></tr>\n\t<tr><td>16.4 </td><td>8    </td><td>275.8</td><td>180  </td><td>3.07 </td><td>4.07 </td><td>17.40</td><td>0    </td><td>0    </td><td>3    </td><td>3    </td></tr>\n\t<tr><td>17.3 </td><td>8    </td><td>275.8</td><td>180  </td><td>3.07 </td><td>3.73 </td><td>17.60</td><td>0    </td><td>0    </td><td>3    </td><td>3    </td></tr>\n\t<tr><td>15.2 </td><td>8    </td><td>275.8</td><td>180  </td><td>3.07 </td><td>3.78 </td><td>18.00</td><td>0    </td><td>0    </td><td>3    </td><td>3    </td></tr>\n\t<tr><td>10.4 </td><td>8    </td><td>472.0</td><td>205  </td><td>2.93 </td><td>5.25 </td><td>17.98</td><td>0    </td><td>0    </td><td>3    </td><td>4    </td></tr>\n</tbody>\n</table>\n", 
                        "text/latex": "\\begin{tabular}{r|lllllllllll}\n mpg & cyl & disp & hp & drat & wt & qsec & vs & am & gear & carb\\\\\n\\hline\n\t 18.7  & 8     & 360.0 & 175   & 3.15  & 3.44  & 17.02 & 0     & 0     & 3     & 2    \\\\\n\t 14.3  & 8     & 360.0 & 245   & 3.21  & 3.57  & 15.84 & 0     & 0     & 3     & 4    \\\\\n\t 16.4  & 8     & 275.8 & 180   & 3.07  & 4.07  & 17.40 & 0     & 0     & 3     & 3    \\\\\n\t 17.3  & 8     & 275.8 & 180   & 3.07  & 3.73  & 17.60 & 0     & 0     & 3     & 3    \\\\\n\t 15.2  & 8     & 275.8 & 180   & 3.07  & 3.78  & 18.00 & 0     & 0     & 3     & 3    \\\\\n\t 10.4  & 8     & 472.0 & 205   & 2.93  & 5.25  & 17.98 & 0     & 0     & 3     & 4    \\\\\n\\end{tabular}\n", 
                        "text/plain": "  mpg  cyl disp  hp  drat wt   qsec  vs am gear carb\n1 18.7 8   360.0 175 3.15 3.44 17.02 0  0  3    2   \n2 14.3 8   360.0 245 3.21 3.57 15.84 0  0  3    4   \n3 16.4 8   275.8 180 3.07 4.07 17.40 0  0  3    3   \n4 17.3 8   275.8 180 3.07 3.73 17.60 0  0  3    3   \n5 15.2 8   275.8 180 3.07 3.78 18.00 0  0  3    3   \n6 10.4 8   472.0 205 2.93 5.25 17.98 0  0  3    4   "
                    }
                }
            ], 
            "execution_count": 19, 
            "metadata": {}, 
            "cell_type": "code", 
            "source": "#Select the first six rows from the \"cars\" data frame where the value of the \"cyl\" column is greater than 6\nSparkR::head(sql( \"SELECT * FROM cars WHERE cyl > 6\"))"
        }, 
        {
            "metadata": {}, 
            "cell_type": "markdown", 
            "source": "Now, try performing a query on the `flowers` data frame."
        }, 
        {
            "outputs": [], 
            "execution_count": 20, 
            "metadata": {}, 
            "cell_type": "code", 
            "source": "#Select the first six rows from the \"flowers\" data frame where the value of the \"Petal_Length\" column is greater than 1\n#type your code here"
        }, 
        {
            "metadata": {}, 
            "cell_type": "markdown", 
            "source": "# Linear Models in SparkR\n"
        }, 
        {
            "metadata": {}, 
            "cell_type": "markdown", 
            "source": "### Creating a Gaussian Regression Model\nTo create a Gaussian Regression Model, we utilize the general `glm` function, **passing the value `gaussian` to the `family` parameter**, indicating that it is a Gaussian model.\n\n`glm` understands most of **R**'s formula operators, such as **~, +, -, . and :**. We can use them to easily create the model, like so:"
        }, 
        {
            "outputs": [], 
            "execution_count": 21, 
            "metadata": {}, 
            "cell_type": "code", 
            "source": "#Create a GLM of the Gaussian family of models, using the formula that has \"mpg\" as the response variable and\n#\"hp\" and \"cyl\" as the predictors.\nmodel <- SparkR::glm(mpg ~ hp + cyl, data = cars, family = \"gaussian\")"
        }, 
        {
            "metadata": {}, 
            "cell_type": "markdown", 
            "source": "We can check the data for this model in a easy-to-read manner using the `summary` function:"
        }, 
        {
            "outputs": [
                {
                    "output_type": "display_data", 
                    "metadata": {}, 
                    "data": {
                        "text/plain": "\nDeviance Residuals: \n(Note: These are approximate quantiles with relative error <= 0.01)\n    Min       1Q   Median       3Q      Max  \n-4.4948  -3.1682  -0.2168   1.9511   7.2934  \n\nCoefficients:\n             Estimate   Std. Error  t value  Pr(>|t|)  \n(Intercept)  36.908     2.1908      16.847   2.2204e-16\nhp           -0.019122  0.015001    -1.2747  0.21253   \ncyl          -2.2647    0.57589     -3.9325  0.00048038\n\n(Dispersion parameter for gaussian family taken to be 10.06809)\n\n    Null deviance: 1126.05  on 31  degrees of freedom\nResidual deviance:  291.97  on 29  degrees of freedom\nAIC: 169.6\n\nNumber of Fisher Scoring iterations: 1\n"
                    }
                }
            ], 
            "execution_count": 22, 
            "metadata": {}, 
            "cell_type": "code", 
            "source": "#Retrieve the data from our model\nSparkR::summary(model)"
        }, 
        {
            "metadata": {}, 
            "cell_type": "markdown", 
            "source": "Now that we know how to create this model, we can **use it for predicting data points** using the `predict` function:"
        }, 
        {
            "outputs": [
                {
                    "output_type": "display_data", 
                    "metadata": {}, 
                    "data": {
                        "text/html": "<table>\n<thead><tr><th scope=col>mpg</th><th scope=col>prediction</th></tr></thead>\n<tbody>\n\t<tr><td>21.0    </td><td>21.21678</td></tr>\n\t<tr><td>21.0    </td><td>21.21678</td></tr>\n\t<tr><td>22.8    </td><td>26.07124</td></tr>\n\t<tr><td>21.4    </td><td>21.21678</td></tr>\n\t<tr><td>18.7    </td><td>15.44448</td></tr>\n\t<tr><td>18.1    </td><td>21.31239</td></tr>\n</tbody>\n</table>\n", 
                        "text/latex": "\\begin{tabular}{r|ll}\n mpg & prediction\\\\\n\\hline\n\t 21.0     & 21.21678\\\\\n\t 21.0     & 21.21678\\\\\n\t 22.8     & 26.07124\\\\\n\t 21.4     & 21.21678\\\\\n\t 18.7     & 15.44448\\\\\n\t 18.1     & 21.31239\\\\\n\\end{tabular}\n", 
                        "text/plain": "  mpg  prediction\n1 21.0 21.21678  \n2 21.0 21.21678  \n3 22.8 26.07124  \n4 21.4 21.21678  \n5 18.7 15.44448  \n6 18.1 21.31239  "
                    }
                }
            ], 
            "execution_count": 23, 
            "metadata": {}, 
            "cell_type": "code", 
            "source": "#Create predictions based on the model created\npredictions <- SparkR::predict(model, newData = cars)\nSparkR::head(select(predictions, \"mpg\", \"prediction\"))"
        }, 
        {
            "metadata": {}, 
            "cell_type": "markdown", 
            "source": "Now that you know how to create a Gaussian model, try it using the `flowers` data set:"
        }, 
        {
            "outputs": [], 
            "execution_count": 24, 
            "metadata": {}, 
            "cell_type": "code", 
            "source": "#Create a Gaussian GLM, using the formula that has \"Sepal_Length\" as the response variable and \"Sepal_Width\" and \"Species\"\n#as the predictor\n#type your code here\n\n#Retrieve the data from our model\n#type your code here\n\n#Create predictions based on the model created\n#type your code here"
        }, 
        {
            "metadata": {}, 
            "cell_type": "markdown", 
            "source": "### Creating a Binomial Regression Model\nCreating a Binomial Regression Model is simple - you just pass the value `binomial` to the `family` parameter of the `glm` function, like this:"
        }, 
        {
            "outputs": [], 
            "execution_count": 25, 
            "metadata": {}, 
            "cell_type": "code", 
            "source": "#Create a Binomial GLM, using the formula that has \"am\" as the response variable and \"hp\", \"mpg\" and \"wt\" as the predictors\nmodel <- SparkR::glm(am ~ hp + mpg + wt, data = cars, family = \"binomial\")"
        }, 
        {
            "metadata": {}, 
            "cell_type": "markdown", 
            "source": "As seen before, we can retrieve data from our model using the `summary` function:"
        }, 
        {
            "outputs": [
                {
                    "output_type": "display_data", 
                    "metadata": {}, 
                    "data": {
                        "text/plain": "\nDeviance Residuals: \n(Note: These are approximate quantiles with relative error <= 0.01)\n     Min        1Q    Median        3Q       Max  \n-1.93381  -0.10002  -0.01766   0.00993   1.47331  \n\nCoefficients:\n             Estimate  Std. Error  t value   Pr(>|t|)\n(Intercept)  -15.721   40.003      -0.39301  0.69431 \nhp           0.083893  0.082278    1.0196    0.3079  \nmpg          1.2293    1.5811      0.7775    0.43686 \nwt           -6.9549   3.353       -2.0743   0.038056\n\n(Dispersion parameter for binomial family taken to be 1)\n\n    Null deviance: 43.2297  on 31  degrees of freedom\nResidual deviance:  8.7661  on 28  degrees of freedom\nAIC: 16.77\n\nNumber of Fisher Scoring iterations: 11\n"
                    }
                }
            ], 
            "execution_count": 26, 
            "metadata": {}, 
            "cell_type": "code", 
            "source": "#Retrieve data from our model\nSparkR::summary(model)"
        }, 
        {
            "metadata": {}, 
            "cell_type": "markdown", 
            "source": "And then, of course, **predict data points using our binomial regression model**:"
        }, 
        {
            "outputs": [
                {
                    "output_type": "display_data", 
                    "metadata": {}, 
                    "data": {
                        "text/html": "<table>\n<thead><tr><th scope=col>am</th><th scope=col>prediction</th></tr></thead>\n<tbody>\n\t<tr><td>1           </td><td>0.7503261501</td></tr>\n\t<tr><td>1           </td><td>0.3377911774</td></tr>\n\t<tr><td>1           </td><td>0.9815376121</td></tr>\n\t<tr><td>0           </td><td>0.0726885017</td></tr>\n\t<tr><td>0           </td><td>0.1216384131</td></tr>\n\t<tr><td>0           </td><td>0.0001622473</td></tr>\n</tbody>\n</table>\n", 
                        "text/latex": "\\begin{tabular}{r|ll}\n am & prediction\\\\\n\\hline\n\t 1            & 0.7503261501\\\\\n\t 1            & 0.3377911774\\\\\n\t 1            & 0.9815376121\\\\\n\t 0            & 0.0726885017\\\\\n\t 0            & 0.1216384131\\\\\n\t 0            & 0.0001622473\\\\\n\\end{tabular}\n", 
                        "text/plain": "  am prediction  \n1 1  0.7503261501\n2 1  0.3377911774\n3 1  0.9815376121\n4 0  0.0726885017\n5 0  0.1216384131\n6 0  0.0001622473"
                    }
                }
            ], 
            "execution_count": 27, 
            "metadata": {}, 
            "cell_type": "code", 
            "source": "#Create predictions based on the model created\npredictions <- SparkR::predict(model, newData = cars)\nSparkR::head(select(predictions, \"am\", \"prediction\"))"
        }, 
        {
            "metadata": {}, 
            "cell_type": "markdown", 
            "source": "Now that you know how to build a binomial regression model, you can try a different model on the `cars` dataset."
        }, 
        {
            "outputs": [], 
            "execution_count": 28, 
            "metadata": {}, 
            "cell_type": "code", 
            "source": "#Create a Binomial GLM, using the formula that has \"vs\" as the response variable and \"drat\" ,\"disp\" and \"gear\" as\n#the predictors\n#type your code here\n\n#Retrieve data from our model\n#type your code here\n\n#Create predictions based on the model created\n#type your code here"
        }
    ], 
    "nbformat": 4
}